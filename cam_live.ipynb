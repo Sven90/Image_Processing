{
 "cells": [
  {
   "cell_type": "code",
   "execution_count": 2,
   "metadata": {},
   "outputs": [],
   "source": [
    "# imports\n",
    "import cv2\n",
    "import keyboard as kys\n",
    "from IPython.display import clear_output\n",
    "import matplotlib.pyplot as plt\n",
    "import numpy as np"
   ]
  },
  {
   "cell_type": "code",
   "execution_count": 13,
   "metadata": {},
   "outputs": [],
   "source": [
    "# filters\n",
    "sharpen1_kernel = np.array([[0, -1, 0],\n",
    "                            [-1, 5, -1],\n",
    "                            [0, -1, 0]])\n",
    "\n",
    "sharpen2_kernel = np.array([[-1, -1, -1],\n",
    "                            [-1, 9, -1],\n",
    "                            [-1, -1, -1]])\n",
    "\n",
    "edge1_kernel = np.array([[0, -1, 0],\n",
    "                        [-1, 4, -1],\n",
    "                        [0, -1, 0]])\n",
    "\n",
    "edge2_kernel = np.array([[-1, -1, -1],\n",
    "                        [-1, 8, -1],\n",
    "                        [-1, -1, -1]])"
   ]
  },
  {
   "cell_type": "code",
   "execution_count": 1,
   "metadata": {},
   "outputs": [
    {
     "name": "stdout",
     "output_type": "stream",
     "text": [
      "Downloading data from https://storage.googleapis.com/tensorflow/tf-keras-datasets/mnist.npz\n",
      "\u001b[1m11490434/11490434\u001b[0m \u001b[32m━━━━━━━━━━━━━━━━━━━━\u001b[0m\u001b[37m\u001b[0m \u001b[1m2s\u001b[0m 0us/step\n"
     ]
    }
   ],
   "source": [
    "# load mnist dataset\n",
    "from keras.datasets import mnist\n",
    "\n",
    "(X_train, y_train), (X_test, y_test) = mnist.load_data()"
   ]
  },
  {
   "cell_type": "code",
   "execution_count": 11,
   "metadata": {},
   "outputs": [
    {
     "data": {
      "image/png": "[encoded data removed]",
      "text/plain": [
       "<Figure size 640x480 with 1 Axes>"
      ]
     },
     "metadata": {},
     "output_type": "display_data"
    }
   ],
   "source": [
    "# process mnist data\n",
    "for i in range(0,201):\n",
    "    plt.imshow(255 - X_train[i,:,:], cmap='gray')\n",
    "    plt.axis('off')\n",
    "    plt.show()\n",
    "    clear_output(wait=True)"
   ]
  },
  {
   "cell_type": "code",
   "execution_count": 14,
   "metadata": {},
   "outputs": [
    {
     "data": {
      "image/png": "[encoded data removed]",
      "text/plain": [
       "<Figure size 640x480 with 1 Axes>"
      ]
     },
     "metadata": {},
     "output_type": "display_data"
    }
   ],
   "source": [
    "# preparations\n",
    "cam = cv2.VideoCapture(0)\n",
    "sharpen1_check = False\n",
    "sharpen2_check = False\n",
    "edge1_check = False\n",
    "edge2_check = False\n",
    "threshold = 30\n",
    "scale = False\n",
    "\n",
    "if cam.isOpened():\n",
    "    # img stream\n",
    "    while True:\n",
    "        # user inputs\n",
    "        if kys.is_pressed('esc'):\n",
    "            cam.release()\n",
    "            break\n",
    "            \n",
    "        if kys.is_pressed('1'):\n",
    "            sharpen1_check = not sharpen1_check\n",
    "            \n",
    "        if kys.is_pressed('2'):\n",
    "            sharpen2_check = not sharpen2_check\n",
    "            \n",
    "        if kys.is_pressed('3'):\n",
    "            edge1_check = not edge1_check    \n",
    "        \n",
    "        if kys.is_pressed('4'):\n",
    "            edge2_check = not edge2_check\n",
    "            \n",
    "        if kys.is_pressed('s'):\n",
    "            scale = not scale\n",
    "            \n",
    "        # capture frame\n",
    "        result, frame = cam.read()\n",
    "            \n",
    "        # apply filters\n",
    "        if result:\n",
    "            frame = cv2.cvtColor(frame, cv2.COLOR_BGR2GRAY)\n",
    "            \n",
    "            if sharpen1_check:\n",
    "                frame = cv2.filter2D(frame, -1, sharpen1_kernel)\n",
    "                \n",
    "            if sharpen2_check:\n",
    "                frame = cv2.filter2D(frame, -1, sharpen2_kernel)\n",
    "                \n",
    "            if edge1_check:\n",
    "                frame = cv2.filter2D(frame, -1, edge1_kernel)\n",
    "                frame[frame < threshold] = 0\n",
    "                frame[frame >= threshold] = 255\n",
    "                frame = 255 - frame\n",
    "                \n",
    "            if edge2_check:\n",
    "                frame = cv2.filter2D(frame, -1, edge2_kernel)\n",
    "                frame[frame < threshold] = 0\n",
    "                frame[frame >= threshold] = 255\n",
    "                frame = 255 - frame\n",
    "                \n",
    "            if scale:\n",
    "                frame = cv2.resize(frame, (28,28))\n",
    "\n",
    "            # display frame\n",
    "            plt.imshow(frame, cmap='gray')\n",
    "            plt.axis('off')\n",
    "            plt.show()\n",
    "            clear_output(wait=True)"
   ]
  }
 ],
 "metadata": {
  "kernelspec": {
   "display_name": "all_tools",
   "language": "python",
   "name": "python3"
  },
  "language_info": {
   "codemirror_mode": {
    "name": "ipython",
    "version": 3
   },
   "file_extension": ".py",
   "mimetype": "text/x-python",
   "name": "python",
   "nbconvert_exporter": "python",
   "pygments_lexer": "ipython3",
   "version": "3.11.5"
  }
 },
 "nbformat": 4,
 "nbformat_minor": 2
}
